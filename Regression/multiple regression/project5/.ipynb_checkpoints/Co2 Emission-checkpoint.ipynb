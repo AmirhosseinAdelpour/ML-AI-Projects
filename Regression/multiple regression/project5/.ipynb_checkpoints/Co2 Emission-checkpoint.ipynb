{
 "cells": [
  {
   "cell_type": "markdown",
   "id": "c40c7b84",
   "metadata": {},
   "source": [
    "# Co2 Emission"
   ]
  },
  {
   "cell_type": "markdown",
   "id": "744560db",
   "metadata": {},
   "source": [
    "## <span style=\"color:red\">Preprocessing</span>"
   ]
  },
  {
   "cell_type": "code",
   "execution_count": 1,
   "id": "e0ae8977",
   "metadata": {},
   "outputs": [],
   "source": [
    "import pandas as pd\n",
    "import numpy as np\n",
    "import matplotlib.pyplot as plt"
   ]
  },
  {
   "cell_type": "code",
   "execution_count": 2,
   "id": "84097ae9",
   "metadata": {
    "scrolled": false
   },
   "outputs": [
    {
     "data": {
      "text/html": [
       "<div>\n",
       "<style scoped>\n",
       "    .dataframe tbody tr th:only-of-type {\n",
       "        vertical-align: middle;\n",
       "    }\n",
       "\n",
       "    .dataframe tbody tr th {\n",
       "        vertical-align: top;\n",
       "    }\n",
       "\n",
       "    .dataframe thead th {\n",
       "        text-align: right;\n",
       "    }\n",
       "</style>\n",
       "<table border=\"1\" class=\"dataframe\">\n",
       "  <thead>\n",
       "    <tr style=\"text-align: right;\">\n",
       "      <th></th>\n",
       "      <th>Engine Size(L)</th>\n",
       "      <th>Cylinders</th>\n",
       "      <th>Fuel Type</th>\n",
       "      <th>Fuel Consumption City (L/100 km)</th>\n",
       "      <th>Fuel Consumption Hwy (L/100 km)</th>\n",
       "      <th>Fuel Consumption Comb (L/100 km)</th>\n",
       "      <th>Fuel Consumption Comb (mpg)</th>\n",
       "      <th>CO2 Emissions(g/km)</th>\n",
       "    </tr>\n",
       "  </thead>\n",
       "  <tbody>\n",
       "    <tr>\n",
       "      <th>0</th>\n",
       "      <td>2.0</td>\n",
       "      <td>4</td>\n",
       "      <td>Z</td>\n",
       "      <td>9.9</td>\n",
       "      <td>6.7</td>\n",
       "      <td>8.5</td>\n",
       "      <td>33</td>\n",
       "      <td>196</td>\n",
       "    </tr>\n",
       "    <tr>\n",
       "      <th>1</th>\n",
       "      <td>2.4</td>\n",
       "      <td>4</td>\n",
       "      <td>Z</td>\n",
       "      <td>11.2</td>\n",
       "      <td>7.7</td>\n",
       "      <td>9.6</td>\n",
       "      <td>29</td>\n",
       "      <td>221</td>\n",
       "    </tr>\n",
       "    <tr>\n",
       "      <th>2</th>\n",
       "      <td>1.5</td>\n",
       "      <td>4</td>\n",
       "      <td>Z</td>\n",
       "      <td>6.0</td>\n",
       "      <td>5.8</td>\n",
       "      <td>5.9</td>\n",
       "      <td>48</td>\n",
       "      <td>136</td>\n",
       "    </tr>\n",
       "    <tr>\n",
       "      <th>3</th>\n",
       "      <td>3.5</td>\n",
       "      <td>6</td>\n",
       "      <td>Z</td>\n",
       "      <td>12.7</td>\n",
       "      <td>9.1</td>\n",
       "      <td>11.1</td>\n",
       "      <td>25</td>\n",
       "      <td>255</td>\n",
       "    </tr>\n",
       "    <tr>\n",
       "      <th>4</th>\n",
       "      <td>3.5</td>\n",
       "      <td>6</td>\n",
       "      <td>Z</td>\n",
       "      <td>12.1</td>\n",
       "      <td>8.7</td>\n",
       "      <td>10.6</td>\n",
       "      <td>27</td>\n",
       "      <td>244</td>\n",
       "    </tr>\n",
       "    <tr>\n",
       "      <th>...</th>\n",
       "      <td>...</td>\n",
       "      <td>...</td>\n",
       "      <td>...</td>\n",
       "      <td>...</td>\n",
       "      <td>...</td>\n",
       "      <td>...</td>\n",
       "      <td>...</td>\n",
       "      <td>...</td>\n",
       "    </tr>\n",
       "    <tr>\n",
       "      <th>7380</th>\n",
       "      <td>2.0</td>\n",
       "      <td>4</td>\n",
       "      <td>Z</td>\n",
       "      <td>10.7</td>\n",
       "      <td>7.7</td>\n",
       "      <td>9.4</td>\n",
       "      <td>30</td>\n",
       "      <td>219</td>\n",
       "    </tr>\n",
       "    <tr>\n",
       "      <th>7381</th>\n",
       "      <td>2.0</td>\n",
       "      <td>4</td>\n",
       "      <td>Z</td>\n",
       "      <td>11.2</td>\n",
       "      <td>8.3</td>\n",
       "      <td>9.9</td>\n",
       "      <td>29</td>\n",
       "      <td>232</td>\n",
       "    </tr>\n",
       "    <tr>\n",
       "      <th>7382</th>\n",
       "      <td>2.0</td>\n",
       "      <td>4</td>\n",
       "      <td>Z</td>\n",
       "      <td>11.7</td>\n",
       "      <td>8.6</td>\n",
       "      <td>10.3</td>\n",
       "      <td>27</td>\n",
       "      <td>240</td>\n",
       "    </tr>\n",
       "    <tr>\n",
       "      <th>7383</th>\n",
       "      <td>2.0</td>\n",
       "      <td>4</td>\n",
       "      <td>Z</td>\n",
       "      <td>11.2</td>\n",
       "      <td>8.3</td>\n",
       "      <td>9.9</td>\n",
       "      <td>29</td>\n",
       "      <td>232</td>\n",
       "    </tr>\n",
       "    <tr>\n",
       "      <th>7384</th>\n",
       "      <td>2.0</td>\n",
       "      <td>4</td>\n",
       "      <td>Z</td>\n",
       "      <td>12.2</td>\n",
       "      <td>8.7</td>\n",
       "      <td>10.7</td>\n",
       "      <td>26</td>\n",
       "      <td>248</td>\n",
       "    </tr>\n",
       "  </tbody>\n",
       "</table>\n",
       "<p>7385 rows × 8 columns</p>\n",
       "</div>"
      ],
      "text/plain": [
       "      Engine Size(L)  Cylinders Fuel Type  Fuel Consumption City (L/100 km)  \\\n",
       "0                2.0          4         Z                               9.9   \n",
       "1                2.4          4         Z                              11.2   \n",
       "2                1.5          4         Z                               6.0   \n",
       "3                3.5          6         Z                              12.7   \n",
       "4                3.5          6         Z                              12.1   \n",
       "...              ...        ...       ...                               ...   \n",
       "7380             2.0          4         Z                              10.7   \n",
       "7381             2.0          4         Z                              11.2   \n",
       "7382             2.0          4         Z                              11.7   \n",
       "7383             2.0          4         Z                              11.2   \n",
       "7384             2.0          4         Z                              12.2   \n",
       "\n",
       "      Fuel Consumption Hwy (L/100 km)  Fuel Consumption Comb (L/100 km)  \\\n",
       "0                                 6.7                               8.5   \n",
       "1                                 7.7                               9.6   \n",
       "2                                 5.8                               5.9   \n",
       "3                                 9.1                              11.1   \n",
       "4                                 8.7                              10.6   \n",
       "...                               ...                               ...   \n",
       "7380                              7.7                               9.4   \n",
       "7381                              8.3                               9.9   \n",
       "7382                              8.6                              10.3   \n",
       "7383                              8.3                               9.9   \n",
       "7384                              8.7                              10.7   \n",
       "\n",
       "      Fuel Consumption Comb (mpg)  CO2 Emissions(g/km)  \n",
       "0                              33                  196  \n",
       "1                              29                  221  \n",
       "2                              48                  136  \n",
       "3                              25                  255  \n",
       "4                              27                  244  \n",
       "...                           ...                  ...  \n",
       "7380                           30                  219  \n",
       "7381                           29                  232  \n",
       "7382                           27                  240  \n",
       "7383                           29                  232  \n",
       "7384                           26                  248  \n",
       "\n",
       "[7385 rows x 8 columns]"
      ]
     },
     "execution_count": 2,
     "metadata": {},
     "output_type": "execute_result"
    }
   ],
   "source": [
    "ds = pd.read_csv(\"CO2 Emissions_Canada.csv\")\n",
    "ds.drop([\"Make\", \"Model\", \"Vehicle Class\", \"Transmission\"], axis=1, inplace=True)\n",
    "ds"
   ]
  },
  {
   "cell_type": "code",
   "execution_count": 3,
   "id": "e3c71fc0",
   "metadata": {},
   "outputs": [
    {
     "data": {
      "text/plain": [
       "array(['Z', 'D', 'X', 'E', 'N'], dtype=object)"
      ]
     },
     "execution_count": 3,
     "metadata": {},
     "output_type": "execute_result"
    }
   ],
   "source": [
    "ds[\"Fuel Type\"].unique()"
   ]
  },
  {
   "cell_type": "code",
   "execution_count": 4,
   "id": "bbea480c",
   "metadata": {},
   "outputs": [],
   "source": [
    "# droping duplicates\n",
    "ds.drop_duplicates(inplace=True)"
   ]
  },
  {
   "cell_type": "markdown",
   "id": "878eea32",
   "metadata": {},
   "source": [
    "### Data cleaning"
   ]
  },
  {
   "cell_type": "code",
   "execution_count": 5,
   "id": "3d8236f3",
   "metadata": {},
   "outputs": [
    {
     "data": {
      "text/plain": [
       "Engine Size(L)                      0\n",
       "Cylinders                           0\n",
       "Fuel Type                           0\n",
       "Fuel Consumption City (L/100 km)    0\n",
       "Fuel Consumption Hwy (L/100 km)     0\n",
       "Fuel Consumption Comb (L/100 km)    0\n",
       "Fuel Consumption Comb (mpg)         0\n",
       "CO2 Emissions(g/km)                 0\n",
       "dtype: int64"
      ]
     },
     "execution_count": 5,
     "metadata": {},
     "output_type": "execute_result"
    }
   ],
   "source": [
    "ds.isnull().sum()\n",
    "# no nulls"
   ]
  },
  {
   "cell_type": "code",
   "execution_count": 6,
   "id": "c5bbaa38",
   "metadata": {
    "scrolled": true
   },
   "outputs": [
    {
     "data": {
      "text/html": [
       "<div>\n",
       "<style scoped>\n",
       "    .dataframe tbody tr th:only-of-type {\n",
       "        vertical-align: middle;\n",
       "    }\n",
       "\n",
       "    .dataframe tbody tr th {\n",
       "        vertical-align: top;\n",
       "    }\n",
       "\n",
       "    .dataframe thead th {\n",
       "        text-align: right;\n",
       "    }\n",
       "</style>\n",
       "<table border=\"1\" class=\"dataframe\">\n",
       "  <thead>\n",
       "    <tr style=\"text-align: right;\">\n",
       "      <th></th>\n",
       "      <th>Engine Size(L)</th>\n",
       "      <th>Cylinders</th>\n",
       "      <th>Fuel Consumption City (L/100 km)</th>\n",
       "      <th>Fuel Consumption Hwy (L/100 km)</th>\n",
       "      <th>Fuel Consumption Comb (L/100 km)</th>\n",
       "      <th>Fuel Consumption Comb (mpg)</th>\n",
       "      <th>CO2 Emissions(g/km)</th>\n",
       "    </tr>\n",
       "  </thead>\n",
       "  <tbody>\n",
       "    <tr>\n",
       "      <th>count</th>\n",
       "      <td>4427.000000</td>\n",
       "      <td>4427.000000</td>\n",
       "      <td>4427.000000</td>\n",
       "      <td>4427.000000</td>\n",
       "      <td>4427.000000</td>\n",
       "      <td>4427.000000</td>\n",
       "      <td>4427.000000</td>\n",
       "    </tr>\n",
       "    <tr>\n",
       "      <th>mean</th>\n",
       "      <td>3.098848</td>\n",
       "      <td>5.528349</td>\n",
       "      <td>12.437023</td>\n",
       "      <td>9.000407</td>\n",
       "      <td>10.890016</td>\n",
       "      <td>27.746781</td>\n",
       "      <td>248.512988</td>\n",
       "    </tr>\n",
       "    <tr>\n",
       "      <th>std</th>\n",
       "      <td>1.327120</td>\n",
       "      <td>1.809074</td>\n",
       "      <td>3.501817</td>\n",
       "      <td>2.256138</td>\n",
       "      <td>2.906438</td>\n",
       "      <td>7.382322</td>\n",
       "      <td>59.335228</td>\n",
       "    </tr>\n",
       "    <tr>\n",
       "      <th>min</th>\n",
       "      <td>0.900000</td>\n",
       "      <td>3.000000</td>\n",
       "      <td>4.200000</td>\n",
       "      <td>4.000000</td>\n",
       "      <td>4.100000</td>\n",
       "      <td>11.000000</td>\n",
       "      <td>96.000000</td>\n",
       "    </tr>\n",
       "    <tr>\n",
       "      <th>25%</th>\n",
       "      <td>2.000000</td>\n",
       "      <td>4.000000</td>\n",
       "      <td>9.900000</td>\n",
       "      <td>7.400000</td>\n",
       "      <td>8.800000</td>\n",
       "      <td>23.000000</td>\n",
       "      <td>205.000000</td>\n",
       "    </tr>\n",
       "    <tr>\n",
       "      <th>50%</th>\n",
       "      <td>3.000000</td>\n",
       "      <td>6.000000</td>\n",
       "      <td>12.000000</td>\n",
       "      <td>8.600000</td>\n",
       "      <td>10.500000</td>\n",
       "      <td>27.000000</td>\n",
       "      <td>244.000000</td>\n",
       "    </tr>\n",
       "    <tr>\n",
       "      <th>75%</th>\n",
       "      <td>3.600000</td>\n",
       "      <td>6.000000</td>\n",
       "      <td>14.400000</td>\n",
       "      <td>10.200000</td>\n",
       "      <td>12.500000</td>\n",
       "      <td>32.000000</td>\n",
       "      <td>285.000000</td>\n",
       "    </tr>\n",
       "    <tr>\n",
       "      <th>max</th>\n",
       "      <td>8.400000</td>\n",
       "      <td>16.000000</td>\n",
       "      <td>30.600000</td>\n",
       "      <td>20.600000</td>\n",
       "      <td>26.100000</td>\n",
       "      <td>69.000000</td>\n",
       "      <td>522.000000</td>\n",
       "    </tr>\n",
       "  </tbody>\n",
       "</table>\n",
       "</div>"
      ],
      "text/plain": [
       "       Engine Size(L)    Cylinders  Fuel Consumption City (L/100 km)  \\\n",
       "count     4427.000000  4427.000000                       4427.000000   \n",
       "mean         3.098848     5.528349                         12.437023   \n",
       "std          1.327120     1.809074                          3.501817   \n",
       "min          0.900000     3.000000                          4.200000   \n",
       "25%          2.000000     4.000000                          9.900000   \n",
       "50%          3.000000     6.000000                         12.000000   \n",
       "75%          3.600000     6.000000                         14.400000   \n",
       "max          8.400000    16.000000                         30.600000   \n",
       "\n",
       "       Fuel Consumption Hwy (L/100 km)  Fuel Consumption Comb (L/100 km)  \\\n",
       "count                      4427.000000                       4427.000000   \n",
       "mean                          9.000407                         10.890016   \n",
       "std                           2.256138                          2.906438   \n",
       "min                           4.000000                          4.100000   \n",
       "25%                           7.400000                          8.800000   \n",
       "50%                           8.600000                         10.500000   \n",
       "75%                          10.200000                         12.500000   \n",
       "max                          20.600000                         26.100000   \n",
       "\n",
       "       Fuel Consumption Comb (mpg)  CO2 Emissions(g/km)  \n",
       "count                  4427.000000          4427.000000  \n",
       "mean                     27.746781           248.512988  \n",
       "std                       7.382322            59.335228  \n",
       "min                      11.000000            96.000000  \n",
       "25%                      23.000000           205.000000  \n",
       "50%                      27.000000           244.000000  \n",
       "75%                      32.000000           285.000000  \n",
       "max                      69.000000           522.000000  "
      ]
     },
     "execution_count": 6,
     "metadata": {},
     "output_type": "execute_result"
    }
   ],
   "source": [
    "ds.describe()"
   ]
  },
  {
   "cell_type": "markdown",
   "id": "850c3b33",
   "metadata": {},
   "source": [
    "<div class=\"alert alert-info alert-block\"><h5><span style=\"color:red\">Note:</span> Removing outliers by visualizing features.</div>"
   ]
  },
  {
   "cell_type": "code",
   "execution_count": 7,
   "id": "42b45bb3",
   "metadata": {
    "scrolled": true
   },
   "outputs": [
    {
     "data": {
      "image/png": "[encoded data removed]",
      "text/plain": [
       "<Figure size 432x288 with 6 Axes>"
      ]
     },
     "metadata": {
      "needs_background": "light"
     },
     "output_type": "display_data"
    }
   ],
   "source": [
    "figure, axis = plt.subplots(2, 3)\n",
    "\n",
    "axis[0, 0].scatter(ds[\"Engine Size(L)\"], ds[\"CO2 Emissions(g/km)\"])\n",
    "axis[0, 0].set_title(\"Engine Size\")\n",
    "\n",
    "axis[0, 1].scatter(ds.Cylinders, ds[\"CO2 Emissions(g/km)\"])\n",
    "axis[0, 1].set_title(\"Cylinders\")\n",
    "\n",
    "\n",
    "axis[0, 2].scatter(ds[\"Fuel Consumption City (L/100 km)\"], ds[\"CO2 Emissions(g/km)\"])\n",
    "axis[0, 2].set_title(\"Fuel Consumption in City\")\n",
    "\n",
    "\n",
    "axis[1, 0].scatter(ds[\"Fuel Consumption Hwy (L/100 km)\"], ds[\"CO2 Emissions(g/km)\"])\n",
    "axis[1, 0].set_title(\"Fuel Consumption in Hwy\")\n",
    "\n",
    "axis[1, 1].scatter(ds[\"Fuel Consumption Comb (L/100 km)\"], ds[\"CO2 Emissions(g/km)\"])\n",
    "axis[1, 1].set_title(\"Fuel Consumption Comb\")\n",
    "\n",
    "axis[1, 2].scatter(ds[\"Fuel Consumption Comb (mpg)\"], ds[\"CO2 Emissions(g/km)\"])\n",
    "axis[1, 2].set_title(\"Fuel Consumption Comb\")\n",
    "# Combine all the operations and display\n",
    "plt.show()\n"
   ]
  },
  {
   "cell_type": "markdown",
   "id": "fe42ef60",
   "metadata": {},
   "source": [
    "<div class=\"alert alert-info alert-block\"><h5><span style=\"color:red\">Note:</span> Fuel Consumption Comb (mpg) column will be deleted because of not being linear.</div>"
   ]
  },
  {
   "cell_type": "code",
   "execution_count": 8,
   "id": "a8488171",
   "metadata": {},
   "outputs": [],
   "source": [
    "ds.drop(\"Fuel Consumption Comb (mpg)\", axis=1, inplace=True)"
   ]
  },
  {
   "cell_type": "markdown",
   "id": "6c887334",
   "metadata": {},
   "source": [
    "#### removing outliers according to the plots[Engine size]"
   ]
  },
  {
   "cell_type": "code",
   "execution_count": 9,
   "id": "4dfb8195",
   "metadata": {
    "scrolled": true
   },
   "outputs": [
    {
     "data": {
      "text/html": [
       "<div>\n",
       "<style scoped>\n",
       "    .dataframe tbody tr th:only-of-type {\n",
       "        vertical-align: middle;\n",
       "    }\n",
       "\n",
       "    .dataframe tbody tr th {\n",
       "        vertical-align: top;\n",
       "    }\n",
       "\n",
       "    .dataframe thead th {\n",
       "        text-align: right;\n",
       "    }\n",
       "</style>\n",
       "<table border=\"1\" class=\"dataframe\">\n",
       "  <thead>\n",
       "    <tr style=\"text-align: right;\">\n",
       "      <th></th>\n",
       "      <th>Engine Size(L)</th>\n",
       "      <th>Cylinders</th>\n",
       "      <th>Fuel Type</th>\n",
       "      <th>Fuel Consumption City (L/100 km)</th>\n",
       "      <th>Fuel Consumption Hwy (L/100 km)</th>\n",
       "      <th>Fuel Consumption Comb (L/100 km)</th>\n",
       "      <th>CO2 Emissions(g/km)</th>\n",
       "    </tr>\n",
       "  </thead>\n",
       "  <tbody>\n",
       "    <tr>\n",
       "      <th>945</th>\n",
       "      <td>8.4</td>\n",
       "      <td>10</td>\n",
       "      <td>Z</td>\n",
       "      <td>20.0</td>\n",
       "      <td>13.0</td>\n",
       "      <td>16.9</td>\n",
       "      <td>389</td>\n",
       "    </tr>\n",
       "    <tr>\n",
       "      <th>1431</th>\n",
       "      <td>8.4</td>\n",
       "      <td>10</td>\n",
       "      <td>Z</td>\n",
       "      <td>19.4</td>\n",
       "      <td>11.3</td>\n",
       "      <td>15.8</td>\n",
       "      <td>363</td>\n",
       "    </tr>\n",
       "    <tr>\n",
       "      <th>2544</th>\n",
       "      <td>8.4</td>\n",
       "      <td>10</td>\n",
       "      <td>Z</td>\n",
       "      <td>19.2</td>\n",
       "      <td>11.3</td>\n",
       "      <td>15.6</td>\n",
       "      <td>364</td>\n",
       "    </tr>\n",
       "    <tr>\n",
       "      <th>3616</th>\n",
       "      <td>8.4</td>\n",
       "      <td>10</td>\n",
       "      <td>Z</td>\n",
       "      <td>19.9</td>\n",
       "      <td>12.6</td>\n",
       "      <td>16.6</td>\n",
       "      <td>387</td>\n",
       "    </tr>\n",
       "    <tr>\n",
       "      <th>4509</th>\n",
       "      <td>8.0</td>\n",
       "      <td>16</td>\n",
       "      <td>Z</td>\n",
       "      <td>26.8</td>\n",
       "      <td>16.6</td>\n",
       "      <td>22.2</td>\n",
       "      <td>522</td>\n",
       "    </tr>\n",
       "  </tbody>\n",
       "</table>\n",
       "</div>"
      ],
      "text/plain": [
       "      Engine Size(L)  Cylinders Fuel Type  Fuel Consumption City (L/100 km)  \\\n",
       "945              8.4         10         Z                              20.0   \n",
       "1431             8.4         10         Z                              19.4   \n",
       "2544             8.4         10         Z                              19.2   \n",
       "3616             8.4         10         Z                              19.9   \n",
       "4509             8.0         16         Z                              26.8   \n",
       "\n",
       "      Fuel Consumption Hwy (L/100 km)  Fuel Consumption Comb (L/100 km)  \\\n",
       "945                              13.0                              16.9   \n",
       "1431                             11.3                              15.8   \n",
       "2544                             11.3                              15.6   \n",
       "3616                             12.6                              16.6   \n",
       "4509                             16.6                              22.2   \n",
       "\n",
       "      CO2 Emissions(g/km)  \n",
       "945                   389  \n",
       "1431                  363  \n",
       "2544                  364  \n",
       "3616                  387  \n",
       "4509                  522  "
      ]
     },
     "execution_count": 9,
     "metadata": {},
     "output_type": "execute_result"
    }
   ],
   "source": [
    "ds[ds[\"Engine Size(L)\"] > 7]"
   ]
  },
  {
   "cell_type": "code",
   "execution_count": 10,
   "id": "2efd868d",
   "metadata": {},
   "outputs": [],
   "source": [
    "ds.drop([945, 1431, 2544, 3616], inplace=True)"
   ]
  },
  {
   "cell_type": "markdown",
   "id": "b1e120fd",
   "metadata": {},
   "source": [
    "### Encoding Fuel type column"
   ]
  },
  {
   "cell_type": "markdown",
   "id": "3662049e",
   "metadata": {},
   "source": [
    "Fuel type:\n",
    ",X = regular gasoline\n",
    ",Z = premium gasoline\n",
    ",D = diesel\n",
    ",E = ethanol (E85)\n",
    ",N = natural gas"
   ]
  },
  {
   "cell_type": "code",
   "execution_count": 11,
   "id": "714644d4",
   "metadata": {},
   "outputs": [],
   "source": [
    "from sklearn.compose import ColumnTransformer\n",
    "from sklearn.preprocessing import OneHotEncoder"
   ]
  },
  {
   "cell_type": "code",
   "execution_count": 12,
   "id": "a530fac2",
   "metadata": {},
   "outputs": [],
   "source": [
    "ct = ColumnTransformer(transformers=[('encoder', OneHotEncoder(), [2])], remainder='passthrough')\n",
    "ds = np.array(ct.fit_transform(ds))"
   ]
  },
  {
   "cell_type": "code",
   "execution_count": 13,
   "id": "4e8038ad",
   "metadata": {},
   "outputs": [
    {
     "data": {
      "text/plain": [
       "array([[  0. ,   0. ,   0. , ...,   6.7,   8.5, 196. ],\n",
       "       [  0. ,   0. ,   0. , ...,   7.7,   9.6, 221. ],\n",
       "       [  0. ,   0. ,   0. , ...,   5.8,   5.9, 136. ],\n",
       "       ...,\n",
       "       [  0. ,   0. ,   0. , ...,   7.7,   9.4, 219. ],\n",
       "       [  0. ,   0. ,   0. , ...,   8.6,  10.3, 240. ],\n",
       "       [  0. ,   0. ,   0. , ...,   8.7,  10.7, 248. ]])"
      ]
     },
     "execution_count": 13,
     "metadata": {},
     "output_type": "execute_result"
    }
   ],
   "source": [
    "ds"
   ]
  },
  {
   "cell_type": "markdown",
   "id": "60b7163a",
   "metadata": {},
   "source": [
    "### Splitting data"
   ]
  },
  {
   "cell_type": "code",
   "execution_count": 14,
   "id": "8d5ac619",
   "metadata": {},
   "outputs": [],
   "source": [
    "x = ds[:, 0:-1]\n",
    "y = ds[:, -1]"
   ]
  },
  {
   "cell_type": "code",
   "execution_count": 15,
   "id": "d41d5781",
   "metadata": {},
   "outputs": [],
   "source": [
    "from sklearn.model_selection import train_test_split"
   ]
  },
  {
   "cell_type": "code",
   "execution_count": 16,
   "id": "7d417d2d",
   "metadata": {},
   "outputs": [],
   "source": [
    "x_train, x_test, y_train, y_test = train_test_split(x, y, test_size=0.2)"
   ]
  },
  {
   "cell_type": "markdown",
   "id": "287d212c",
   "metadata": {},
   "source": [
    "## <span style=\"color:red\">Processing</span>"
   ]
  },
  {
   "cell_type": "code",
   "execution_count": 17,
   "id": "f26b5c77",
   "metadata": {},
   "outputs": [],
   "source": [
    "from sklearn.linear_model import LinearRegression"
   ]
  },
  {
   "cell_type": "code",
   "execution_count": 18,
   "id": "8f67b634",
   "metadata": {
    "scrolled": true
   },
   "outputs": [
    {
     "data": {
      "text/html": [
       "<style>#sk-container-id-1 {color: black;background-color: white;}#sk-container-id-1 pre{padding: 0;}#sk-container-id-1 div.sk-toggleable {background-color: white;}#sk-container-id-1 label.sk-toggleable__label {cursor: pointer;display: block;width: 100%;margin-bottom: 0;padding: 0.3em;box-sizing: border-box;text-align: center;}#sk-container-id-1 label.sk-toggleable__label-arrow:before {content: \"▸\";float: left;margin-right: 0.25em;color: #696969;}#sk-container-id-1 label.sk-toggleable__label-arrow:hover:before {color: black;}#sk-container-id-1 div.sk-estimator:hover label.sk-toggleable__label-arrow:before {color: black;}#sk-container-id-1 div.sk-toggleable__content {max-height: 0;max-width: 0;overflow: hidden;text-align: left;background-color: #f0f8ff;}#sk-container-id-1 div.sk-toggleable__content pre {margin: 0.2em;color: black;border-radius: 0.25em;background-color: #f0f8ff;}#sk-container-id-1 input.sk-toggleable__control:checked~div.sk-toggleable__content {max-height: 200px;max-width: 100%;overflow: auto;}#sk-container-id-1 input.sk-toggleable__control:checked~label.sk-toggleable__label-arrow:before {content: \"▾\";}#sk-container-id-1 div.sk-estimator input.sk-toggleable__control:checked~label.sk-toggleable__label {background-color: #d4ebff;}#sk-container-id-1 div.sk-label input.sk-toggleable__control:checked~label.sk-toggleable__label {background-color: #d4ebff;}#sk-container-id-1 input.sk-hidden--visually {border: 0;clip: rect(1px 1px 1px 1px);clip: rect(1px, 1px, 1px, 1px);height: 1px;margin: -1px;overflow: hidden;padding: 0;position: absolute;width: 1px;}#sk-container-id-1 div.sk-estimator {font-family: monospace;background-color: #f0f8ff;border: 1px dotted black;border-radius: 0.25em;box-sizing: border-box;margin-bottom: 0.5em;}#sk-container-id-1 div.sk-estimator:hover {background-color: #d4ebff;}#sk-container-id-1 div.sk-parallel-item::after {content: \"\";width: 100%;border-bottom: 1px solid gray;flex-grow: 1;}#sk-container-id-1 div.sk-label:hover label.sk-toggleable__label {background-color: #d4ebff;}#sk-container-id-1 div.sk-serial::before {content: \"\";position: absolute;border-left: 1px solid gray;box-sizing: border-box;top: 0;bottom: 0;left: 50%;z-index: 0;}#sk-container-id-1 div.sk-serial {display: flex;flex-direction: column;align-items: center;background-color: white;padding-right: 0.2em;padding-left: 0.2em;position: relative;}#sk-container-id-1 div.sk-item {position: relative;z-index: 1;}#sk-container-id-1 div.sk-parallel {display: flex;align-items: stretch;justify-content: center;background-color: white;position: relative;}#sk-container-id-1 div.sk-item::before, #sk-container-id-1 div.sk-parallel-item::before {content: \"\";position: absolute;border-left: 1px solid gray;box-sizing: border-box;top: 0;bottom: 0;left: 50%;z-index: -1;}#sk-container-id-1 div.sk-parallel-item {display: flex;flex-direction: column;z-index: 1;position: relative;background-color: white;}#sk-container-id-1 div.sk-parallel-item:first-child::after {align-self: flex-end;width: 50%;}#sk-container-id-1 div.sk-parallel-item:last-child::after {align-self: flex-start;width: 50%;}#sk-container-id-1 div.sk-parallel-item:only-child::after {width: 0;}#sk-container-id-1 div.sk-dashed-wrapped {border: 1px dashed gray;margin: 0 0.4em 0.5em 0.4em;box-sizing: border-box;padding-bottom: 0.4em;background-color: white;}#sk-container-id-1 div.sk-label label {font-family: monospace;font-weight: bold;display: inline-block;line-height: 1.2em;}#sk-container-id-1 div.sk-label-container {text-align: center;}#sk-container-id-1 div.sk-container {/* jupyter's `normalize.less` sets `[hidden] { display: none; }` but bootstrap.min.css set `[hidden] { display: none !important; }` so we also need the `!important` here to be able to override the default hidden behavior on the sphinx rendered scikit-learn.org. See: https://github.com/scikit-learn/scikit-learn/issues/21755 */display: inline-block !important;position: relative;}#sk-container-id-1 div.sk-text-repr-fallback {display: none;}</style><div id=\"sk-container-id-1\" class=\"sk-top-container\"><div class=\"sk-text-repr-fallback\"><pre>LinearRegression()</pre><b>In a Jupyter environment, please rerun this cell to show the HTML representation or trust the notebook. <br />On GitHub, the HTML representation is unable to render, please try loading this page with nbviewer.org.</b></div><div class=\"sk-container\" hidden><div class=\"sk-item\"><div class=\"sk-estimator sk-toggleable\"><input class=\"sk-toggleable__control sk-hidden--visually\" id=\"sk-estimator-id-1\" type=\"checkbox\" checked><label for=\"sk-estimator-id-1\" class=\"sk-toggleable__label sk-toggleable__label-arrow\">LinearRegression</label><div class=\"sk-toggleable__content\"><pre>LinearRegression()</pre></div></div></div></div></div>"
      ],
      "text/plain": [
       "LinearRegression()"
      ]
     },
     "execution_count": 18,
     "metadata": {},
     "output_type": "execute_result"
    }
   ],
   "source": [
    "regr = LinearRegression()\n",
    "regr.fit(x_train, y_train)"
   ]
  },
  {
   "cell_type": "markdown",
   "id": "aa6d2737",
   "metadata": {},
   "source": [
    "### Evaluating the model"
   ]
  },
  {
   "cell_type": "code",
   "execution_count": 19,
   "id": "0f2548d7",
   "metadata": {},
   "outputs": [],
   "source": [
    "y_pred = regr.predict(x_test)"
   ]
  },
  {
   "cell_type": "code",
   "execution_count": 20,
   "id": "89660ff3",
   "metadata": {},
   "outputs": [],
   "source": [
    "from sklearn.metrics import r2_score"
   ]
  },
  {
   "cell_type": "code",
   "execution_count": 28,
   "id": "4a4d54e9",
   "metadata": {
    "scrolled": true
   },
   "outputs": [
    {
     "data": {
      "text/plain": [
       "0.9882210286190809"
      ]
     },
     "execution_count": 28,
     "metadata": {},
     "output_type": "execute_result"
    }
   ],
   "source": [
    "r2_score(y_test, y_pred)"
   ]
  },
  {
   "cell_type": "markdown",
   "id": "4f631980",
   "metadata": {},
   "source": [
    "<div class=\"alert alert-info alert-block\"><h5><span style=\"color:red\">Note:</span> the code in the below is used for numpy array to show all the columns."
   ]
  },
  {
   "cell_type": "code",
   "execution_count": 22,
   "id": "7248f5ba",
   "metadata": {},
   "outputs": [],
   "source": [
    "np.set_printoptions(threshold=np.inf)"
   ]
  },
  {
   "cell_type": "markdown",
   "id": "dc1519a1",
   "metadata": {},
   "source": [
    "### Making some predictions"
   ]
  },
  {
   "cell_type": "code",
   "execution_count": 32,
   "id": "f705dba9",
   "metadata": {},
   "outputs": [
    {
     "data": {
      "text/plain": [
       "array([279.28542201])"
      ]
     },
     "execution_count": 32,
     "metadata": {},
     "output_type": "execute_result"
    }
   ],
   "source": [
    "# first item in x_test\n",
    "regr.predict([[ 0. ,  0. ,  0. ,  0. ,  1. ,  3. ,  6. , 13.6, 10.2, 12. ]])"
   ]
  },
  {
   "cell_type": "code",
   "execution_count": 31,
   "id": "3d31e651",
   "metadata": {},
   "outputs": [
    {
     "data": {
      "text/plain": [
       "array([261.85850907])"
      ]
     },
     "execution_count": 31,
     "metadata": {},
     "output_type": "execute_result"
    }
   ],
   "source": [
    "# fourth item  in x_test\n",
    "regr.predict([ [ 0. ,  0. ,  0. ,  1. ,  0. ,  3. ,  6. , 13.4,  8.7, 11.2]])"
   ]
  }
 ],
 "metadata": {
  "kernelspec": {
   "display_name": "Python 3 (ipykernel)",
   "language": "python",
   "name": "python3"
  },
  "language_info": {
   "codemirror_mode": {
    "name": "ipython",
    "version": 3
   },
   "file_extension": ".py",
   "mimetype": "text/x-python",
   "name": "python",
   "nbconvert_exporter": "python",
   "pygments_lexer": "ipython3",
   "version": "3.10.5"
  }
 },
 "nbformat": 4,
 "nbformat_minor": 5
}
